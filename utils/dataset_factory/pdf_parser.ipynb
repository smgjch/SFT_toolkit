{
 "cells": [
  {
   "cell_type": "code",
   "execution_count": 3,
   "metadata": {},
   "outputs": [],
   "source": [
    "import PyPDF2\n"
   ]
  },
  {
   "cell_type": "code",
   "execution_count": 12,
   "metadata": {},
   "outputs": [
    {
     "name": "stdout",
     "output_type": "stream",
     "text": [
      "Text from page 1:\n",
      "Question ID a9040290\n",
      "ID: a9040290\n",
      "200\n",
      "175\n",
      "150\n",
      "125\n",
      "100\n",
      "75\n",
      "50\n",
      "25\n",
      "0Electricity (in thousands of MWh)\n",
      " Amount of Additional Electricity Wind\n",
      "Turbines Could Generate When\n",
      "Winds Were Stronger Than Forecast\n",
      "West Midwest\n",
      "Electric companies that use wind turbines rely on weather forecasts to predict the maximum amount of power, in\n",
      "megawatt-hours (MWh), they can generate using wind so that they can determine how much theyʼll need to\n",
      "generate from other sources. When winds are stronger than they were forecast to be, however, the predicted\n",
      "maximum amount of electricity wind turbines could generate will be too low. For example, the graph shows that\n",
      "for the West region, the winds were ______\n",
      "Which choice most effectively uses data from the graph to complete the example?\n",
      "A. strong enough to generate about 150 thousand more MWh of electricity from wind turbines.\n",
      "B. so weak that the electricity from wind turbines was about 175 thousand MWh less than predicted.\n",
      "C. so weak that the electricity from wind turbines was about 150 thousand MWh less than predicted.\n",
      "D. strong enough to generate about 175 thousand more MWh of electricity from wind turbines.Assessment\n",
      "SATTest\n",
      "Reading and W ritingDomain\n",
      "Information and\n",
      "IdeasSkill\n",
      "Command of\n",
      "EvidenceDiﬃculty\n",
      "1.2\n",
      "\n"
     ]
    }
   ],
   "source": [
    "\n",
    "# Open the PDF file\n",
    "with open('/home/recovery/Desktop/AGIEal_SFT_tools/data/sat_en/Reading and Writing/Information and Ideas/Command of Evidence/Command of Evidence (Level 1).pdf', 'rb') as file:\n",
    "    reader = PyPDF2.PdfReader(file)\n",
    "\n",
    "    # Number of pages in the PDF\n",
    "    num_pages = len(reader.pages)\n",
    "    # print(f\"Number of pages: {num_pages}\")\n",
    "\n",
    "    # Extract text from each page\n",
    "    # for page_num in range(num_pages):\n",
    "    page = reader.pages[1]\n",
    "    text = page.extract_text()\n",
    "    if text:\n",
    "        print(f\"Text from page {0 + 1}:\\n{text}\")\n"
   ]
  },
  {
   "cell_type": "code",
   "execution_count": 29,
   "metadata": {},
   "outputs": [
    {
     "name": "stdout",
     "output_type": "stream",
     "text": [
      "Merging /home/recovery/Desktop/AGIEal_SFT_tools/data/sat_en/Reading and Writing/Standard English Conventions/Form, Structure, and Sense/Form, Structure, and Sense (Level 1) Answer Key.pdf...\n",
      "Merging /home/recovery/Desktop/AGIEal_SFT_tools/data/sat_en/Reading and Writing/Standard English Conventions/Form, Structure, and Sense/Form, Structure, and Sense (Level 2) Answer Key.pdf...\n",
      "Merging /home/recovery/Desktop/AGIEal_SFT_tools/data/sat_en/Reading and Writing/Standard English Conventions/Form, Structure, and Sense/Form, Structure, and Sense (Level 3) Answer Key.pdf...\n",
      "All PDF files have been merged into /home/recovery/Desktop/AGIEal_SFT_tools/data/sat_en/Reading and Writing/Standard English Conventions/Form, Structure, and Sense/Form_Structure_and_Sense.pdf\n"
     ]
    }
   ],
   "source": [
    "import os\n",
    "from PyPDF2 import PdfMerger\n",
    "\n",
    "def merge_pdfs(directory, output_filename):\n",
    "    \"\"\"\n",
    "    Merges all PDF files in the given directory into a single PDF file.\n",
    "\n",
    "    Args:\n",
    "    directory (str): The path to the directory containing PDF files.\n",
    "    output_filename (str): The path of the output merged PDF file.\n",
    "    \"\"\"\n",
    "    pdf_files = [f for f in os.listdir(directory) if f.endswith('.pdf')]\n",
    "    pdf_files.sort()  # Sort the files if order matters\n",
    "\n",
    "    # Create a PdfMerger object\n",
    "    merger = PdfMerger()\n",
    "\n",
    "    # Loop through all PDF files and append them to the merger\n",
    "    for pdf in pdf_files:\n",
    "        pdf_path = os.path.join(directory, pdf)\n",
    "        print(f\"Merging {pdf_path}...\")\n",
    "        merger.append(pdf_path)\n",
    "\n",
    "    # Write out the merged PDF\n",
    "    merger.write(output_filename)\n",
    "    merger.close()\n",
    "    print(f\"All PDF files have been merged into {output_filename}\")\n",
    "\n",
    "# Example usage\n",
    "if __name__ == \"__main__\":\n",
    "    directory_path = \"/home/recovery/Desktop/AGIEal_SFT_tools/data/sat_en/Reading and Writing/Standard English Conventions/Form, Structure, and Sense\"\n",
    "    output_file = \"/home/recovery/Desktop/AGIEal_SFT_tools/data/sat_en/Reading and Writing/Standard English Conventions/Form, Structure, and Sense/Form_Structure_and_Sense.pdf\"\n",
    "    merge_pdfs(directory_path, output_file)\n"
   ]
  },
  {
   "cell_type": "markdown",
   "metadata": {},
   "source": [
    "https://opendatalab.com/OpenSourceTools/Extractor/PDF\n",
    "https://github.com/opendatalab/MinerU"
   ]
  }
 ],
 "metadata": {
  "kernelspec": {
   "display_name": "work",
   "language": "python",
   "name": "python3"
  },
  "language_info": {
   "codemirror_mode": {
    "name": "ipython",
    "version": 3
   },
   "file_extension": ".py",
   "mimetype": "text/x-python",
   "name": "python",
   "nbconvert_exporter": "python",
   "pygments_lexer": "ipython3",
   "version": "3.12.7"
  }
 },
 "nbformat": 4,
 "nbformat_minor": 2
}
