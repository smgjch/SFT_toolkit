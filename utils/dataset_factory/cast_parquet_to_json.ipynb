{
 "cells": [
  {
   "cell_type": "code",
   "execution_count": 1,
   "metadata": {},
   "outputs": [],
   "source": [
    "import pandas as pd\n",
    "import json"
   ]
  },
  {
   "cell_type": "code",
   "execution_count": null,
   "metadata": {},
   "outputs": [],
   "source": [
    "df = pd.read_parquet('/mnt/petrelfs/hujucheng/SFT_tools/SFT_toolkit/data/analytical_reasoning/from_hugging_face/LAST-ar_addition_from_huggingface.parquet')\n",
    "df.to_json('/mnt/petrelfs/hujucheng/SFT_tools/SFT_toolkit/data/analytical_reasoning/from_hugging_face/LAST-ar_addition_from_huggingface.json')\n"
   ]
  },
  {
   "cell_type": "code",
   "execution_count": null,
   "metadata": {},
   "outputs": [
    {
     "ename": "FileNotFoundError",
     "evalue": "[Errno 2] No such file or directory: '/mnt/petrelfs/hujucheng/SFT_tools/SFT_toolkit/data/sat_math/sat_math.json'",
     "output_type": "error",
     "traceback": [
      "\u001b[0;31m---------------------------------------------------------------------------\u001b[0m",
      "\u001b[0;31mFileNotFoundError\u001b[0m                         Traceback (most recent call last)",
      "Cell \u001b[0;32mIn[3], line 1\u001b[0m\n\u001b[0;32m----> 1\u001b[0m \u001b[38;5;28;01mwith\u001b[39;00m \u001b[38;5;28mopen\u001b[39m(\u001b[38;5;124m\"\u001b[39m\u001b[38;5;124m/mnt/petrelfs/hujucheng/SFT_tools/SFT_toolkit/data/sat_math/sat_math.json\u001b[39m\u001b[38;5;124m\"\u001b[39m,\u001b[38;5;124m\"\u001b[39m\u001b[38;5;124mr\u001b[39m\u001b[38;5;124m\"\u001b[39m) \u001b[38;5;28;01mas\u001b[39;00m sat_math:\n\u001b[1;32m      2\u001b[0m     content \u001b[38;5;241m=\u001b[39m json\u001b[38;5;241m.\u001b[39mload(sat_math)\n",
      "File \u001b[0;32m~/anaconda3/lib/python3.12/site-packages/IPython/core/interactiveshell.py:324\u001b[0m, in \u001b[0;36m_modified_open\u001b[0;34m(file, *args, **kwargs)\u001b[0m\n\u001b[1;32m    317\u001b[0m \u001b[38;5;28;01mif\u001b[39;00m file \u001b[38;5;129;01min\u001b[39;00m {\u001b[38;5;241m0\u001b[39m, \u001b[38;5;241m1\u001b[39m, \u001b[38;5;241m2\u001b[39m}:\n\u001b[1;32m    318\u001b[0m     \u001b[38;5;28;01mraise\u001b[39;00m \u001b[38;5;167;01mValueError\u001b[39;00m(\n\u001b[1;32m    319\u001b[0m         \u001b[38;5;124mf\u001b[39m\u001b[38;5;124m\"\u001b[39m\u001b[38;5;124mIPython won\u001b[39m\u001b[38;5;124m'\u001b[39m\u001b[38;5;124mt let you open fd=\u001b[39m\u001b[38;5;132;01m{\u001b[39;00mfile\u001b[38;5;132;01m}\u001b[39;00m\u001b[38;5;124m by default \u001b[39m\u001b[38;5;124m\"\u001b[39m\n\u001b[1;32m    320\u001b[0m         \u001b[38;5;124m\"\u001b[39m\u001b[38;5;124mas it is likely to crash IPython. If you know what you are doing, \u001b[39m\u001b[38;5;124m\"\u001b[39m\n\u001b[1;32m    321\u001b[0m         \u001b[38;5;124m\"\u001b[39m\u001b[38;5;124myou can use builtins\u001b[39m\u001b[38;5;124m'\u001b[39m\u001b[38;5;124m open.\u001b[39m\u001b[38;5;124m\"\u001b[39m\n\u001b[1;32m    322\u001b[0m     )\n\u001b[0;32m--> 324\u001b[0m \u001b[38;5;28;01mreturn\u001b[39;00m io_open(file, \u001b[38;5;241m*\u001b[39margs, \u001b[38;5;241m*\u001b[39m\u001b[38;5;241m*\u001b[39mkwargs)\n",
      "\u001b[0;31mFileNotFoundError\u001b[0m: [Errno 2] No such file or directory: '/mnt/petrelfs/hujucheng/SFT_tools/SFT_toolkit/data/sat_math/sat_math.json'"
     ]
    }
   ],
   "source": [
    "with open(\"/mnt/petrelfs/hujucheng/SFT_tools/SFT_toolkit/data/analytical_reasoning/from_hugging_face/LAST-ar_addition_from_huggingface.parquet\",\"r\") as sat_math:\n",
    "    content = json.load(sat_math)\n",
    "    "
   ]
  },
  {
   "cell_type": "code",
   "execution_count": 13,
   "metadata": {},
   "outputs": [],
   "source": [
    "import json\n",
    "\n",
    "def filter_correct_reasoning(data, output_file):\n",
    "    \"\"\"\n",
    "    Filters the data to include only entries where all steps in the reasoning_chain are correct.\n",
    "\n",
    "    :param data: The input dictionary containing 'question', 'reasoning_chain', 'answer', and 'is_correct'.\n",
    "    :param output_file: The path to the output JSON file.\n",
    "    \"\"\"\n",
    "    correct_indices = []\n",
    "\n",
    "    # Identify indices where all reasoning_chain steps are correct\n",
    "    for index, reasoning in data['reasoning_chain'].items():\n",
    "        if all(step['is_correct'] for step in reasoning['steps']):\n",
    "            correct_indices.append(index)\n",
    "\n",
    "    # Filter the data based on correct indices\n",
    "    filtered_data = {key: {index: value[index] for index in correct_indices} for key, value in data.items()}\n",
    "\n",
    "    # Save the filtered data to a JSON file\n",
    "    with open(output_file, 'w', encoding='utf-8') as file:\n",
    "        json.dump(filtered_data, file, indent=4, ensure_ascii=False)\n",
    "\n",
    "\n",
    "\n",
    "filter_correct_reasoning(content, '/mnt/petrelfs/hujucheng/SFT_tools/SFT_toolkit/data/sat_math/sat_math.json')\n"
   ]
  },
  {
   "cell_type": "code",
   "execution_count": null,
   "metadata": {},
   "outputs": [
    {
     "name": "stdout",
     "output_type": "stream",
     "text": [
      "Transformed JSON has been saved to /mnt/petrelfs/hujucheng/SFT_tools/SFT_toolkit/data/sat_math/sat_math_raw.json\n"
     ]
    }
   ],
   "source": [
    "import json\n",
    "\n",
    "def transform_sat_math(input_file, output_file):\n",
    "    # Read the input JSON from a file\n",
    "    with open(input_file, \"r\") as infile:\n",
    "        input_json = json.load(infile)\n",
    "\n",
    "    output_json = []\n",
    "\n",
    "    for idx in input_json[\"question\"]:\n",
    "\n",
    "        question = input_json[\"question\"][idx]\n",
    "\n",
    "        thoughts = input_json[\"reasoning_chain\"][idx][\"steps\"]\n",
    "        answer = \"\"\n",
    "        for step in thoughts:\n",
    "            answer += step[\"explanation\"]\n",
    "        answer = f\"{answer}\\n Therefore the final answer is {input_json[\"reasoning_chain\"][idx][\"final_answer\"]}\"\n",
    "\n",
    "        message = {\n",
    "            \"messages\": [\n",
    "                {\n",
    "                    \"role\": \"user\",\n",
    "                    \"content\": question\n",
    "                },\n",
    "                {\n",
    "                    \"role\": \"assistant\",\n",
    "                    \"content\": answer\n",
    "                }\n",
    "            ]\n",
    "        }\n",
    "        output_json.append(message)\n",
    "    \n",
    "    # Write the transformed JSON to the output file\n",
    "    with open(output_file, \"w\") as outfile:\n",
    "        json.dump(output_json, outfile, indent=4,ensure_ascii=False)\n",
    "\n",
    "    print(f\"Transformed JSON has been saved to {output_file}\")\n",
    "\n",
    "\n",
    "input_file_path = \"/mnt/petrelfs/hujucheng/SFT_tools/SFT_toolkit/data/sat_math/sat_math.json\"  \n",
    "output_file_path = \"/mnt/petrelfs/hujucheng/SFT_tools/SFT_toolkit/data/sat_math/sat_math_raw.json\" \n",
    "\n",
    "transform_sat_math(input_file_path, output_file_path)\n"
   ]
  },
  {
   "cell_type": "code",
   "execution_count": null,
   "metadata": {},
   "outputs": [],
   "source": []
  }
 ],
 "metadata": {
  "kernelspec": {
   "display_name": "base",
   "language": "python",
   "name": "python3"
  },
  "language_info": {
   "codemirror_mode": {
    "name": "ipython",
    "version": 3
   },
   "file_extension": ".py",
   "mimetype": "text/x-python",
   "name": "python",
   "nbconvert_exporter": "python",
   "pygments_lexer": "ipython3",
   "version": "3.12.7"
  }
 },
 "nbformat": 4,
 "nbformat_minor": 2
}
