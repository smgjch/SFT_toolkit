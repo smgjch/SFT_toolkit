{
 "cells": [
  {
   "cell_type": "code",
   "execution_count": null,
   "metadata": {},
   "outputs": [],
   "source": [
    "import json\n",
    "\n",
    "# Load the JSONL file\n",
    "data = []\n",
    "# with open('/mnt/petrelfs/hujucheng/train/data/index/aya_muri_openhms_sft1v2_xinv3_filtered2_id_label_score.jsonl', 'r') as f:\n",
    "with open('/mnt/petrelfs/hujucheng/train/data/index/filtered_B.jsonl', 'r') as f:\n",
    "    for line in f:\n",
    "        data.append(json.loads(line))"
   ]
  },
  {
   "cell_type": "code",
   "execution_count": 14,
   "metadata": {},
   "outputs": [],
   "source": [
    "scores = [item['score'] for item in data]\n",
    "task_labels = [item['task_label'] for item in data]"
   ]
  },
  {
   "cell_type": "code",
   "execution_count": 15,
   "metadata": {},
   "outputs": [
    {
     "data": {
      "image/png": "[encoded data removed]",
      "text/plain": [
       "<Figure size 640x480 with 1 Axes>"
      ]
     },
     "metadata": {},
     "output_type": "display_data"
    }
   ],
   "source": [
    "import matplotlib.pyplot as plt\n",
    "\n",
    "plt.hist(scores, bins=30, alpha=0.7, color='blue', edgecolor='black')\n",
    "plt.title('Distribution of Scores')\n",
    "plt.xlabel('Score')\n",
    "plt.ylabel('Frequency')\n",
    "plt.show()"
   ]
  },
  {
   "cell_type": "code",
   "execution_count": 16,
   "metadata": {},
   "outputs": [
    {
     "data": {
      "text/plain": [
       "474373"
      ]
     },
     "execution_count": 16,
     "metadata": {},
     "output_type": "execute_result"
    }
   ],
   "source": [
    "scores.count(5)"
   ]
  },
  {
   "cell_type": "code",
   "execution_count": 17,
   "metadata": {},
   "outputs": [
    {
     "data": {
      "text/plain": [
       "165297"
      ]
     },
     "execution_count": 17,
     "metadata": {},
     "output_type": "execute_result"
    }
   ],
   "source": [
    "scores.count(4)"
   ]
  },
  {
   "cell_type": "code",
   "execution_count": 18,
   "metadata": {},
   "outputs": [
    {
     "data": {
      "text/plain": [
       "12543"
      ]
     },
     "execution_count": 18,
     "metadata": {},
     "output_type": "execute_result"
    }
   ],
   "source": [
    "scores.count(3)"
   ]
  },
  {
   "cell_type": "code",
   "execution_count": null,
   "metadata": {},
   "outputs": [
    {
     "name": "stdout",
     "output_type": "stream",
     "text": [
      "Length of A: 704346\n",
      "Length of B: 1965844\n",
      "Length of filtered B: 654125\n"
     ]
    }
   ],
   "source": [
    "import json\n",
    "import jsonlines\n",
    "\n",
    "def read_jsonl(file_path):\n",
    "    data = []\n",
    "    with jsonlines.open(file_path) as reader:\n",
    "        for obj in reader:\n",
    "            data.append(obj)\n",
    "    return data\n",
    "\n",
    "\n",
    "def write_jsonl(file_path, data):\n",
    "    with jsonlines.open(file_path, mode='w') as writer:\n",
    "        for item in data:\n",
    "            writer.write(item)\n",
    "\n",
    "def main():\n",
    "    # Read JSONL files A and B\n",
    "    A = read_jsonl('/mnt/petrelfs/hujucheng/train/data/index/data_70M.jsonl')\n",
    "    B = read_jsonl('/mnt/petrelfs/hujucheng/train/data/index/aya_muri_openhms_sft1v2_xinv3_filtered2_id_label_score.jsonl')\n",
    "\n",
    "    # Print the lengths of A and B\n",
    "    print(f\"Length of A: {len(A)}\")\n",
    "    print(f\"Length of B: {len(B)}\")\n",
    "\n",
    "    # Extract _id values from A\n",
    "    ids_in_A = set(item['_id'] for item in A)\n",
    "\n",
    "    # Filter dictionaries in B where _id is in A\n",
    "    filtered_B = [item for item in B if item['_id'] in ids_in_A]\n",
    "\n",
    "    # Save the filtered dictionaries from B to a new JSONL file\n",
    "    output_file = '65wBasewithScore.jsonl'\n",
    "    write_jsonl(output_file, filtered_B)\n",
    "\n",
    "    # Print the length of the filtered data\n",
    "    print(f\"Length of filtered B: {len(filtered_B)}\")\n",
    "\n",
    "if __name__ == \"__main__\":\n",
    "    main()"
   ]
  },
  {
   "cell_type": "code",
   "execution_count": null,
   "metadata": {},
   "outputs": [],
   "source": []
  }
 ],
 "metadata": {
  "kernelspec": {
   "display_name": "ocPlayground",
   "language": "python",
   "name": "python3"
  },
  "language_info": {
   "codemirror_mode": {
    "name": "ipython",
    "version": 3
   },
   "file_extension": ".py",
   "mimetype": "text/x-python",
   "name": "python",
   "nbconvert_exporter": "python",
   "pygments_lexer": "ipython3",
   "version": "3.10.15"
  }
 },
 "nbformat": 4,
 "nbformat_minor": 2
}
