{
 "cells": [
  {
   "cell_type": "code",
   "execution_count": 3,
   "metadata": {},
   "outputs": [],
   "source": [
    "import json"
   ]
  },
  {
   "cell_type": "code",
   "execution_count": 9,
   "metadata": {},
   "outputs": [],
   "source": [
    "\n",
    "def count_rows_in_json(file_path):\n",
    "    \"\"\"\n",
    "    Counts the number of rows in a JSON file where each row is an object in an array.\n",
    "    \n",
    "    Args:\n",
    "    file_path (str): The path to the JSON file.\n",
    "    \n",
    "    Returns:\n",
    "    int: The number of rows (objects) in the JSON array.\n",
    "    \"\"\"\n",
    "    try:\n",
    "        with open(file_path, 'r') as file:\n",
    "            data = json.load(file)\n",
    "            # Assuming the JSON data is an array of objects\n",
    "            if isinstance(data, list):\n",
    "                return len(data)\n",
    "            \n",
    "            else:\n",
    "                print(\"JSON is not an array of objects.\")\n",
    "                return 0\n",
    "    except FileNotFoundError:\n",
    "        print(\"File not found.\")\n",
    "        return 0\n",
    "    except json.JSONDecodeError:\n",
    "        print(\"Error decoding JSON.\")\n",
    "        return 0\n",
    "    except Exception as e:\n",
    "        print(f\"An error occurred: {e}\")\n",
    "        return 0\n"
   ]
  },
  {
   "cell_type": "code",
   "execution_count": 10,
   "metadata": {},
   "outputs": [
    {
     "name": "stdout",
     "output_type": "stream",
     "text": [
      "JSON is not an array of objects.\n",
      "The JSON file contains 0 rows.\n"
     ]
    }
   ],
   "source": [
    "\n",
    "file_path = '/mnt/petrelfs/hujucheng/eval/compass-internal/outputs/eval_dataset_factory/20241128_142010/results/GPT-4o-mini-2024-07-18/translation-SFT-SFT_data_for_LSAT_AR_from_trian_300_explianed.json.json'\n",
    "row_count = count_rows_in_json(file_path)\n",
    "print(f\"The JSON file contains {row_count} rows.\")\n"
   ]
  },
  {
   "cell_type": "code",
   "execution_count": null,
   "metadata": {},
   "outputs": [],
   "source": []
  }
 ],
 "metadata": {
  "kernelspec": {
   "display_name": "ocPlayground",
   "language": "python",
   "name": "python3"
  },
  "language_info": {
   "codemirror_mode": {
    "name": "ipython",
    "version": 3
   },
   "file_extension": ".py",
   "mimetype": "text/x-python",
   "name": "python",
   "nbconvert_exporter": "python",
   "pygments_lexer": "ipython3",
   "version": "3.10.15"
  }
 },
 "nbformat": 4,
 "nbformat_minor": 2
}
