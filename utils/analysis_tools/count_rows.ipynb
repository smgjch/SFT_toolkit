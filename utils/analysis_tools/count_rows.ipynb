{
 "cells": [
  {
   "cell_type": "code",
   "execution_count": 3,
   "metadata": {},
   "outputs": [],
   "source": [
    "import json"
   ]
  },
  {
   "cell_type": "code",
   "execution_count": 4,
   "metadata": {},
   "outputs": [],
   "source": [
    "\n",
    "def count_rows_in_json(file_path):\n",
    "    \"\"\"\n",
    "    Counts the number of rows in a JSON file where each row is an object in an array.\n",
    "    \n",
    "    Args:\n",
    "    file_path (str): The path to the JSON file.\n",
    "    \n",
    "    Returns:\n",
    "    int: The number of rows (objects) in the JSON array.\n",
    "    \"\"\"\n",
    "    try:\n",
    "        with open(file_path, 'r') as file:\n",
    "            data = json.load(file)\n",
    "            # Assuming the JSON data is an array of objects\n",
    "            if isinstance(data, list):\n",
    "                return len(data)\n",
    "            \n",
    "            else:\n",
    "                print(\"JSON is not an array of objects.\")\n",
    "                return 0\n",
    "    except FileNotFoundError:\n",
    "        print(\"File not found.\")\n",
    "        return 0\n",
    "    except json.JSONDecodeError:\n",
    "        print(\"Error decoding JSON.\")\n",
    "        return 0\n",
    "    except Exception as e:\n",
    "        print(f\"An error occurred: {e}\")\n",
    "        return 0\n"
   ]
  },
  {
   "cell_type": "code",
   "execution_count": 5,
   "metadata": {},
   "outputs": [
    {
     "name": "stdout",
     "output_type": "stream",
     "text": [
      "The JSON file contains 871 rows.\n"
     ]
    }
   ],
   "source": [
    "\n",
    "file_path = '/home/recovery/Desktop/AGIEal_SFT_tools/data/sat_en/from_web/SAT_en_set_parsed_filtered.json'\n",
    "row_count = count_rows_in_json(file_path)\n",
    "print(f\"The JSON file contains {row_count} rows.\")\n"
   ]
  },
  {
   "cell_type": "code",
   "execution_count": null,
   "metadata": {},
   "outputs": [],
   "source": []
  }
 ],
 "metadata": {
  "kernelspec": {
   "display_name": "work",
   "language": "python",
   "name": "python3"
  },
  "language_info": {
   "codemirror_mode": {
    "name": "ipython",
    "version": 3
   },
   "file_extension": ".py",
   "mimetype": "text/x-python",
   "name": "python",
   "nbconvert_exporter": "python",
   "pygments_lexer": "ipython3",
   "version": "3.12.7"
  }
 },
 "nbformat": 4,
 "nbformat_minor": 2
}
