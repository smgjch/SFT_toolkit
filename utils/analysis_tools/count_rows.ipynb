{
 "cells": [
  {
   "cell_type": "code",
   "execution_count": 1,
   "metadata": {},
   "outputs": [],
   "source": [
    "import json"
   ]
  },
  {
   "cell_type": "code",
   "execution_count": 9,
   "metadata": {},
   "outputs": [],
   "source": [
    "\n",
    "def count_rows_in_json(file_path):\n",
    "    \"\"\"\n",
    "    Counts the number of rows in a JSON file where each row is an object in an array.\n",
    "    \n",
    "    Args:\n",
    "    file_path (str): The path to the JSON file.\n",
    "    \n",
    "    Returns:\n",
    "    int: The number of rows (objects) in the JSON array.\n",
    "    \"\"\"\n",
    "    try:\n",
    "        with open(file_path, 'r') as file:\n",
    "            data = json.load(file)\n",
    "            # Assuming the JSON data is an array of objects\n",
    "            if isinstance(data, list):\n",
    "                return len(data)\n",
    "            \n",
    "            else:\n",
    "                print(\"JSON is not an array of objects.\")\n",
    "                return 0\n",
    "    except FileNotFoundError:\n",
    "        print(\"File not found.\")\n",
    "        return 0\n",
    "    except json.JSONDecodeError:\n",
    "        print(\"Error decoding JSON.\")\n",
    "        return 0\n",
    "    except Exception as e:\n",
    "        print(f\"An error occurred: {e}\")\n",
    "        return 0\n"
   ]
  },
  {
   "cell_type": "code",
   "execution_count": 10,
   "metadata": {},
   "outputs": [
    {
     "data": {
      "text/plain": [
       "4953"
      ]
     },
     "execution_count": 10,
     "metadata": {},
     "output_type": "execute_result"
    }
   ],
   "source": [
    "count_rows_in_json(\"/mnt/petrelfs/hujucheng/SFT_tools/SFT_toolkit/data/logic_reasoning/from_ReColr/LSAT_LR_from_Recolr_dedulication.json\") "
   ]
  },
  {
   "cell_type": "code",
   "execution_count": 2,
   "metadata": {},
   "outputs": [
    {
     "name": "stdout",
     "output_type": "stream",
     "text": [
      "Renamed 'hu_SFT_data_for_LSAT_LR_detailed_reasoning_fromBBS_251_249.json' to 'hu_SFT_data_for_LSAT_LR_detailed_reasoning_fromBBS_251_249_249.json'\n",
      "Renamed 'hu_SFT_data_for_LSAT_AR_from_huggingFace.json' to 'hu_SFT_data_for_LSAT_AR_from_huggingFace_413.json'\n",
      "Renamed 'hu_SFT_data_for_LSAT_AR_from_trian_282_raw_selected_282.json' to 'hu_SFT_data_for_LSAT_AR_from_trian_282_raw_selected_282_282.json'\n",
      "Renamed 'hu_SFT-sat_math_slice_8_IFD_selected_120.json' to 'hu_SFT-sat_math_slice_8_IFD_selected_120_120.json'\n",
      "Renamed 'hu_SFT_data_for_LSAT_AR_from_trian_300_explianed_297.json' to 'hu_SFT_data_for_LSAT_AR_from_trian_300_explianed_297_297.json'\n",
      "Renamed 'hu_SFT_data_for_SAT_en_from_SATofficialAndWeb_raw_IFD_selected_767_767.json' to 'hu_SFT_data_for_SAT_en_from_SATofficialAndWeb_raw_IFD_selected_767_767_767.json'\n",
      "Renamed 'hu_SFT_data_for_LSAT_AR_from_gitHub.json' to 'hu_SFT_data_for_LSAT_AR_from_gitHub_57.json'\n",
      "Renamed 'hu_SFT_data_for_LSAT_RC_from_trian_300_explianed_71_71.json' to 'hu_SFT_data_for_LSAT_RC_from_trian_300_explianed_71_71_71.json'\n",
      "Renamed 'hucb_additionSet copy_103.json' to 'hucb_additionSet copy_103_103.json'\n",
      "Renamed 'hu_SFT_data_for_LSAT_LR_from_ReColr.json' to 'hu_SFT_data_for_LSAT_LR_from_ReColr_4947.json'\n",
      "Renamed 'hucb_additionSet_103.json' to 'hucb_additionSet_103_103.json'\n",
      "Renamed 'hu_SFT_data_for_LSAT_RC_from_trian_500_explianed_300.json' to 'hu_SFT_data_for_LSAT_RC_from_trian_500_explianed_300_300.json'\n",
      "Renamed 'hu_SFT_data_for_LSAT_LR_from_trian_1200_1198.json' to 'hu_SFT_data_for_LSAT_LR_from_trian_1200_1198_1198.json'\n",
      "Renamed 'hu_SFT_data_for_LSAT_AR_from_train_reversed.json' to 'hu_SFT_data_for_LSAT_AR_from_train_reversed_1997.json'\n",
      "Renamed 'hu_SFT-sat_math_slice_9_IFD_selected_121.json' to 'hu_SFT-sat_math_slice_9_IFD_selected_121_121.json'\n",
      "Renamed 'hucb_additionSet copy 2_103.json' to 'hucb_additionSet copy 2_103_103.json'\n",
      "Renamed 'hu_SFT_data_for_LogiQA_from_LogiQAofficial_Train_3000.json' to 'hu_SFT_data_for_LogiQA_from_LogiQAofficial_Train_3000_3000.json'\n",
      "Renamed 'hu_SFT_data_for_LSAT_RC_from_trian_2097_reversed.json' to 'hu_SFT_data_for_LSAT_RC_from_trian_2097_reversed_2349.json'\n",
      "Renamed 'hu_SFT_data_for_LSAT_LR_from_logicGLUE_538_of_77_selected_77.json' to 'hu_SFT_data_for_LSAT_LR_from_logicGLUE_538_of_77_selected_77_77.json'\n",
      "Renamed 'hu_SFT_data_for_LSAT_LR _detailed_reasonging_fromweb_35_35.json' to 'hu_SFT_data_for_LSAT_LR _detailed_reasonging_fromweb_35_35_35.json'\n",
      "Renamed 'hu_SFT_data_for_aqua_rat_from_trian_raw_slice_8.json' to 'hu_SFT_data_for_aqua_rat_from_trian_raw_slice_8_3054.json'\n",
      "Renamed 'hu_SFT_data_for_LSAT_RC_from_trian_400_399_399.json' to 'hu_SFT_data_for_LSAT_RC_from_trian_400_399_399_399.json'\n",
      "Contains 20042 rows in total.\n"
     ]
    }
   ],
   "source": [
    "import os\n",
    "import json\n",
    "\n",
    "def rename_json_files_with_count(directory):\n",
    "    total = 0\n",
    "    for filename in os.listdir(directory):\n",
    "        if filename.endswith('.json'):\n",
    "            file_path = os.path.join(directory, filename)\n",
    "            with open(file_path, 'r') as file:\n",
    "                data = json.load(file)\n",
    "                \n",
    "                # Check if the data is a list\n",
    "                if isinstance(data, list):\n",
    "                    item_count = len(data)\n",
    "                    total += item_count\n",
    "                else:\n",
    "                    print(f\"Warning: {filename} does not contain a list.\")\n",
    "                    continue\n",
    "\n",
    "            # Create a new filename with the item count as a postfix\n",
    "            name, ext = os.path.splitext(filename)\n",
    "            new_filename = f\"{name}_{item_count}{ext}\"\n",
    "            new_file_path = os.path.join(directory, new_filename)\n",
    "\n",
    "            # Rename the file\n",
    "            os.rename(file_path, new_file_path)\n",
    "            print(f\"Renamed '{filename}' to '{new_filename}'\")\n",
    "    print(f\"Contains {total} rows in total.\")\n",
    "\n",
    "# Usage\n",
    "directory_path = '/mnt/petrelfs/hujucheng/SFT_tools/SFT_toolkit/data/SFT_data/102BFullSet/hu'\n",
    "rename_json_files_with_count(directory_path)\n"
   ]
  },
  {
   "cell_type": "code",
   "execution_count": null,
   "metadata": {},
   "outputs": [
    {
     "name": "stdout",
     "output_type": "stream",
     "text": [
      "Contains 5092 rows in total.\n"
     ]
    }
   ],
   "source": [
    "import os\n",
    "import json\n",
    "\n",
    "def rename_json_files_with_count(directory):\n",
    "    total = 0\n",
    "    for filename in os.listdir(directory):\n",
    "        if filename.endswith('.json'):\n",
    "            file_path = os.path.join(directory, filename)\n",
    "            with open(file_path, 'r') as file:\n",
    "                data = json.load(file)\n",
    "                \n",
    "                # Check if the data is a list\n",
    "                if isinstance(data, list):\n",
    "                    item_count = len(data)\n",
    "                    total += item_count\n",
    "                else:\n",
    "                    print(f\"Warning: {filename} does not contain a list.\")\n",
    "                    continue\n",
    "\n",
    "            # # Create a new filename with the item count as a postfix\n",
    "            # name, ext = os.path.splitext(filename)\n",
    "            # new_filename = f\"{name}_{item_count}{ext}\"\n",
    "            # new_file_path = os.path.join(directory, new_filename)\n",
    "\n",
    "            # Rename the file\n",
    "            # # os.rename(file_path, new_file_path)\n",
    "            # print(f\"Renamed '{filename}' to '{new_filename}'\")\n",
    "    print(f\"Contains {total} rows in total.\")\n",
    "\n",
    "# Usage\n",
    "directory_path = '/mnt/petrelfs/hujucheng/SFT_tools/SFT_toolkit/data/benchmark_set'\n",
    "rename_json_files_with_count(directory_path)\n"
   ]
  },
  {
   "cell_type": "code",
   "execution_count": null,
   "metadata": {},
   "outputs": [],
   "source": []
  }
 ],
 "metadata": {
  "kernelspec": {
   "display_name": "ocPlayground",
   "language": "python",
   "name": "python3"
  },
  "language_info": {
   "codemirror_mode": {
    "name": "ipython",
    "version": 3
   },
   "file_extension": ".py",
   "mimetype": "text/x-python",
   "name": "python",
   "nbconvert_exporter": "python",
   "pygments_lexer": "ipython3",
   "version": "3.10.15"
  }
 },
 "nbformat": 4,
 "nbformat_minor": 2
}
