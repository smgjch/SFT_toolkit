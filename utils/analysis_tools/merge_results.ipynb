{
 "cells": [
  {
   "cell_type": "code",
   "execution_count": 8,
   "metadata": {},
   "outputs": [
    {
     "name": "stdout",
     "output_type": "stream",
     "text": [
      "Merged CSV saved to merged_output_with_timestamps.csv\n"
     ]
    }
   ],
   "source": [
    "import os\n",
    "import pandas as pd\n",
    "\n",
    "def merge_csv_files_with_timestamps(base_dir):\n",
    "    # Initialize an empty DataFrame to store merged data\n",
    "    merged_df = pd.DataFrame()\n",
    "\n",
    "    # Traverse the directory structure\n",
    "    for root, dirs, files in os.walk(base_dir):\n",
    "        for file in files:\n",
    "            if file.endswith('.csv'):\n",
    "                # Extract the time step from the directory path\n",
    "                time_step = os.path.basename(os.path.dirname(root))\n",
    "                \n",
    "                # Construct full file path\n",
    "                file_path = os.path.join(root, file)\n",
    "                \n",
    "                # Read the CSV file\n",
    "                df = pd.read_csv(file_path)\n",
    "                \n",
    "                # Extract columns after 'mode'\n",
    "                model_columns = df.columns[4:]\n",
    "                \n",
    "                # Rename model columns by prepending the time step\n",
    "                renamed_columns = {col: f\"{time_step}_{col}\" for col in model_columns}\n",
    "                df.rename(columns=renamed_columns, inplace=True)\n",
    "                \n",
    "                # Concatenate horizontally\n",
    "                if merged_df.empty:\n",
    "                    # Start with the initial columns\n",
    "                    merged_df = df\n",
    "                else:\n",
    "                    # Concatenate only the renamed model columns\n",
    "                    merged_df = pd.concat([merged_df, df[list(renamed_columns.values())]], axis=1)\n",
    "\n",
    "    return merged_df\n",
    "\n",
    "def main():\n",
    "    # Base directory containing the time step directories\n",
    "    base_dir = '/mnt/petrelfs/hujucheng/integrated_eval/ocplayground/outputs/hu_bench_v1_0/chat_objective'\n",
    "    \n",
    "    # Merge all CSV files with renamed model columns\n",
    "    merged_df = merge_csv_files_with_timestamps(base_dir)\n",
    "    \n",
    "    # Save the merged DataFrame to a new CSV file\n",
    "    output_file = 'merged_output_with_timestamps.csv'\n",
    "    merged_df.to_csv(output_file, index=False)\n",
    "    print(f\"Merged CSV saved to {output_file}\")\n",
    "\n",
    "if __name__ == \"__main__\":\n",
    "    main()\n"
   ]
  },
  {
   "cell_type": "code",
   "execution_count": null,
   "metadata": {},
   "outputs": [],
   "source": []
  }
 ],
 "metadata": {
  "kernelspec": {
   "display_name": "ocPlayground",
   "language": "python",
   "name": "python3"
  },
  "language_info": {
   "codemirror_mode": {
    "name": "ipython",
    "version": 3
   },
   "file_extension": ".py",
   "mimetype": "text/x-python",
   "name": "python",
   "nbconvert_exporter": "python",
   "pygments_lexer": "ipython3",
   "version": "3.10.15"
  }
 },
 "nbformat": 4,
 "nbformat_minor": 2
}
